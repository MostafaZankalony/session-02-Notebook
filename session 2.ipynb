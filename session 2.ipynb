{
 "cells": [
  {
   "cell_type": "code",
   "execution_count": 1,
   "id": "84740f79",
   "metadata": {},
   "outputs": [
    {
     "name": "stdout",
     "output_type": "stream",
     "text": [
      "False\n"
     ]
    }
   ],
   "source": [
    "print(\"love\">\"zebra\")\n"
   ]
  },
  {
   "cell_type": "code",
   "execution_count": 2,
   "id": "4adff570",
   "metadata": {},
   "outputs": [
    {
     "ename": "SyntaxError",
     "evalue": "expression cannot contain assignment, perhaps you meant \"==\"? (1542008859.py, line 1)",
     "output_type": "error",
     "traceback": [
      "\u001b[1;36m  Input \u001b[1;32mIn [2]\u001b[1;36m\u001b[0m\n\u001b[1;33m    print(\"love\"=\"zebra\")\u001b[0m\n\u001b[1;37m          ^\u001b[0m\n\u001b[1;31mSyntaxError\u001b[0m\u001b[1;31m:\u001b[0m expression cannot contain assignment, perhaps you meant \"==\"?\n"
     ]
    }
   ],
   "source": [
    "print(\"love\"=\"zebra\")"
   ]
  },
  {
   "cell_type": "code",
   "execution_count": 3,
   "id": "bf3c2fb7",
   "metadata": {},
   "outputs": [
    {
     "name": "stdout",
     "output_type": "stream",
     "text": [
      "True\n"
     ]
    }
   ],
   "source": [
    "print(\"love\"<\"zebra\")"
   ]
  },
  {
   "cell_type": "code",
   "execution_count": 4,
   "id": "7e5567b8",
   "metadata": {},
   "outputs": [
    {
     "name": "stdout",
     "output_type": "stream",
     "text": [
      "ممم\n"
     ]
    }
   ],
   "source": [
    "print(\"ممم\")"
   ]
  },
  {
   "cell_type": "code",
   "execution_count": 5,
   "id": "038d6933",
   "metadata": {},
   "outputs": [],
   "source": [
    "x=\"نننن\"\n"
   ]
  },
  {
   "cell_type": "code",
   "execution_count": 6,
   "id": "d4aa7c62",
   "metadata": {},
   "outputs": [
    {
     "name": "stdout",
     "output_type": "stream",
     "text": [
      "نننن\n"
     ]
    }
   ],
   "source": [
    "print(x)"
   ]
  },
  {
   "cell_type": "code",
   "execution_count": 7,
   "id": "de7a16bc",
   "metadata": {},
   "outputs": [
    {
     "data": {
      "text/plain": [
       "2"
      ]
     },
     "execution_count": 7,
     "metadata": {},
     "output_type": "execute_result"
    }
   ],
   "source": [
    "min(2,3,5,9)"
   ]
  },
  {
   "cell_type": "code",
   "execution_count": 8,
   "id": "746a43d4",
   "metadata": {},
   "outputs": [
    {
     "data": {
      "text/plain": [
       "10"
      ]
     },
     "execution_count": 8,
     "metadata": {},
     "output_type": "execute_result"
    }
   ],
   "source": [
    "max(-5,-3,10)"
   ]
  },
  {
   "cell_type": "code",
   "execution_count": 9,
   "id": "72c00e18",
   "metadata": {},
   "outputs": [
    {
     "data": {
      "text/plain": [
       "-100"
      ]
     },
     "execution_count": 9,
     "metadata": {},
     "output_type": "execute_result"
    }
   ],
   "source": [
    "min(-100,-50,0)"
   ]
  },
  {
   "cell_type": "code",
   "execution_count": 10,
   "id": "3e17c078",
   "metadata": {},
   "outputs": [
    {
     "data": {
      "text/plain": [
       "15"
      ]
     },
     "execution_count": 10,
     "metadata": {},
     "output_type": "execute_result"
    }
   ],
   "source": [
    "x=10\n",
    "y=15\n",
    "max(x,y)"
   ]
  },
  {
   "cell_type": "code",
   "execution_count": 11,
   "id": "4d3a9442",
   "metadata": {},
   "outputs": [
    {
     "name": "stdout",
     "output_type": "stream",
     "text": [
      "mostafa\n"
     ]
    }
   ],
   "source": [
    "a=max(\"ahmed\",\"mostafa\")\n",
    "print(a)"
   ]
  },
  {
   "cell_type": "code",
   "execution_count": 12,
   "id": "0322b3b2",
   "metadata": {},
   "outputs": [
    {
     "name": "stdout",
     "output_type": "stream",
     "text": [
      "enter your namemostafa mohamed mostafa\n",
      "23\n"
     ]
    }
   ],
   "source": [
    "name=input(\"enter your name\")\n",
    "num_of_characters=len(name)\n",
    "print(num_of_characters)"
   ]
  },
  {
   "cell_type": "code",
   "execution_count": 16,
   "id": "a6c3791a",
   "metadata": {},
   "outputs": [
    {
     "name": "stdout",
     "output_type": "stream",
     "text": [
      "enter your nameMahmoud Elsayed\n"
     ]
    }
   ],
   "source": [
    "name=input(\"enter your name\")\n",
    "def len_of_name(name) :  \n",
    "    num_of_characters=len(name)\n",
    "    return num_of_characters"
   ]
  },
  {
   "cell_type": "code",
   "execution_count": 17,
   "id": "f25ffee9",
   "metadata": {},
   "outputs": [
    {
     "data": {
      "text/plain": [
       "15"
      ]
     },
     "execution_count": 17,
     "metadata": {},
     "output_type": "execute_result"
    }
   ],
   "source": [
    "len_of_name(name)"
   ]
  },
  {
   "cell_type": "code",
   "execution_count": 18,
   "id": "c769d59e",
   "metadata": {},
   "outputs": [
    {
     "name": "stdout",
     "output_type": "stream",
     "text": [
      "True\n"
     ]
    }
   ],
   "source": [
    "name= 'mostafa'\n",
    "print(\"m\" in name)"
   ]
  },
  {
   "cell_type": "code",
   "execution_count": 20,
   "id": "e231f197",
   "metadata": {},
   "outputs": [
    {
     "name": "stdout",
     "output_type": "stream",
     "text": [
      "False\n"
     ]
    }
   ],
   "source": [
    "name= 'mostafa'\n",
    "print(\"d\" in name)"
   ]
  },
  {
   "cell_type": "code",
   "execution_count": 21,
   "id": "804c94b0",
   "metadata": {},
   "outputs": [
    {
     "name": "stdout",
     "output_type": "stream",
     "text": [
      "enter your salary1050\n",
      "you are rich\n"
     ]
    }
   ],
   "source": [
    "salary=int(input(\"enter your salary\"))\n",
    "if salary < 1000 :\n",
    "    print(\"you are poor\")\n",
    "else :\n",
    "    print (\"you are rich\")\n",
    "    "
   ]
  },
  {
   "cell_type": "code",
   "execution_count": 24,
   "id": "5c7eac79",
   "metadata": {},
   "outputs": [
    {
     "name": "stdout",
     "output_type": "stream",
     "text": [
      "1000\n",
      "good salary\n"
     ]
    }
   ],
   "source": [
    "salary = int(input())\n",
    "if salary <1000:\n",
    "    print(\"you are poor\")\n",
    "elif salary >= 1000 and salary <20000 :\n",
    "    print (\"good salary\")\n",
    "elif salary >=20000 :\n",
    "    print(\"you are rich\")\n",
    "else:\n",
    "    \n",
    "    print('Salary Out Of Scoop')"
   ]
  },
  {
   "cell_type": "code",
   "execution_count": null,
   "id": "47f6e467",
   "metadata": {},
   "outputs": [],
   "source": []
  }
 ],
 "metadata": {
  "kernelspec": {
   "display_name": "Python 3 (ipykernel)",
   "language": "python",
   "name": "python3"
  },
  "language_info": {
   "codemirror_mode": {
    "name": "ipython",
    "version": 3
   },
   "file_extension": ".py",
   "mimetype": "text/x-python",
   "name": "python",
   "nbconvert_exporter": "python",
   "pygments_lexer": "ipython3",
   "version": "3.9.12"
  }
 },
 "nbformat": 4,
 "nbformat_minor": 5
}
